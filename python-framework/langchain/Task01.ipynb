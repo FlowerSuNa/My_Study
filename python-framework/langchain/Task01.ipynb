{
 "cells": [
  {
   "cell_type": "markdown",
   "id": "4f574762",
   "metadata": {},
   "source": [
    "# 여행 플래너 Chat Bot 구현"
   ]
  },
  {
   "cell_type": "markdown",
   "id": "688097c6",
   "metadata": {},
   "source": [
    "## 1. Setting"
   ]
  },
  {
   "cell_type": "code",
   "execution_count": 1,
   "id": "4b256b04",
   "metadata": {},
   "outputs": [
    {
     "data": {
      "text/plain": [
       "True"
      ]
     },
     "execution_count": 1,
     "metadata": {},
     "output_type": "execute_result"
    }
   ],
   "source": [
    "from dotenv import load_dotenv\n",
    "load_dotenv()"
   ]
  },
  {
   "cell_type": "markdown",
   "id": "ed5daf00",
   "metadata": {},
   "source": [
    "## 2. Prompt Engineering"
   ]
  },
  {
   "cell_type": "markdown",
   "id": "d312502e",
   "metadata": {},
   "source": [
    "- Input : 일정(날짜, 일수 등), 여행 장소 \n",
    "- Output : 여행 기간 동안 장소별 세부 계획\n",
    "- Format :\n",
    "\n",
    "| 날짜 및 시간 | 장소 | 세부 계획 |\n",
    "|---|---|---|\n",
    "| Time 1 | 장소 A | - |\n",
    "| Time 2 | 장소 B | - |\n",
    "| Time 3 | 장소 C | - |\n",
    "| Time 4 | 장소 D | - |\n"
   ]
  },
  {
   "cell_type": "code",
   "execution_count": null,
   "id": "75dc735d",
   "metadata": {},
   "outputs": [],
   "source": [
    "from langchain_core.prompts import ChatPromptTemplate\n",
    "\n",
    "summarize_templete = \"\"\"\n",
    "{text}\n",
    "\n",
    "위에 입력된 텍스트를 다음 항목으로 요약해주세요: \n",
    "- 여행 일정 :\n",
    "- 교통편 일정 :\n",
    "- 여행 장소 :\n",
    "- 여행 스타일 :\n",
    "- 예산 :\n",
    "- 추천 숙소 :\"\"\"\n",
    "\n",
    "summarize_prompt = ChatPromptTemplate.from_messages([\n",
    "    (\"system\", \"당신은 여행 일정 작성을 도와주는 AI 어시스턴트입니다.\"),\n",
    "    (\"human\", summarize_templete)\n",
    "])\n",
    "\n",
    "planner_prompt = ChatPromptTemplate.from_template(\"\"\"\n",
    "다음 텍스트의 여행 일정을 기반으로 세부 여행 일정을 짜주세요.\n",
    "텍스트: {summary}\n",
    "규칙:\n",
    "1. 날짜 및 시간과 장소, 세부 계획 항목으로 표 형태로 작성하세요.\n",
    "2. 여행 스타일과 추천 숙소, 예산에 맞추어 동선을 고려하여 장소를 추천하세요.\n",
    "답변:\"\"\")"
   ]
  },
  {
   "cell_type": "markdown",
   "id": "c74cebc6",
   "metadata": {},
   "source": [
    "## 3. Chain Testing"
   ]
  },
  {
   "cell_type": "code",
   "execution_count": null,
   "id": "0cc3ecf2",
   "metadata": {},
   "outputs": [],
   "source": [
    "from operator import itemgetter\n",
    "from langchain_openai import ChatOpenAI\n",
    "from langchain_core.output_parsers import StrOutputParser\n",
    "from langchain_core.runnables import RunnableMap, RunnableLambda\n",
    "\n",
    "model = ChatOpenAI(\n",
    "    model=\"gpt-4.1-mini\",\n",
    "    temperature=0.4,\n",
    "    top_p=0.7\n",
    ")\n",
    "\n",
    "# 체인 구성\n",
    "summarize_chain = summarize_prompt | model\n",
    "planner_chain = planner_prompt | model | StrOutputParser()\n",
    "\n",
    "# 최종 체인\n",
    "chain = (\n",
    "    summarize_chain |\n",
    "    RunnableLambda(lambda x: {\"summary\": x.content}) |\n",
    "    RunnableMap({\n",
    "        \"summary\": itemgetter(\"summary\"),\n",
    "        \"plan\": planner_chain\n",
    "    }) |\n",
    "    RunnableLambda(lambda x: f\"<요약>\\n{x['summary']}\\n\\n<일정>\\n{x['plan']}\")\n",
    ")"
   ]
  },
  {
   "cell_type": "code",
   "execution_count": 4,
   "id": "b9c479c1",
   "metadata": {},
   "outputs": [],
   "source": [
    "text = \"\"\"내일 오전 8시에 서울역에서 출발해서 오전 11시에 부산역에 도착해.\n",
    "2박 3일동안 부산 기장군 부근에서 여행하고 싶어.\n",
    "맛있는 거 먹으면서 돌아다니고 싶고, 명소도 가고 싶어.\n",
    "그런데 자동차가 없어서 걸어다니거나 대중교통을 이용해야해.\n",
    "그리고 여행 마지막 날은 오후 5시에 부산역에서 출발해.\n",
    "여동생이랑 둘이서 가려고 하고, 예산은 50만원 내외로 부탁해.\"\"\""
   ]
  },
  {
   "cell_type": "code",
   "execution_count": 5,
   "id": "f64d97e5",
   "metadata": {},
   "outputs": [
    {
     "data": {
      "text/markdown": [
       "<요약>\n",
       "- 여행 일정 : 2박 3일, 내일 오전 8시 출발, 마지막 날 오후 5시 부산역 출발  \n",
       "- 교통편 일정 : 서울역에서 부산역까지 오전 8시 출발, 오전 11시 도착, 부산 내에서는 대중교통 및 도보 이용  \n",
       "- 여행 장소 : 부산 기장군 부근  \n",
       "- 여행 스타일 : 맛집 탐방과 명소 방문, 도보 및 대중교통 이용  \n",
       "- 예산 : 50만원 내외 (2인 기준)  \n",
       "- 추천 숙소 : 기장군 내 대중교통 접근성이 좋은 게스트하우스 또는 중저가 호텔\n",
       "\n",
       "<일정>\n",
       "| 날짜       | 시간        | 장소/활동                      | 세부 계획 및 비고                                    |\n",
       "|------------|-------------|-------------------------------|----------------------------------------------------|\n",
       "| 1일차 (내일) | 08:00       | 서울역 출발 (KTX)              | KTX로 부산역까지 이동 (약 3시간 소요)              |\n",
       "|            | 11:00       | 부산역 도착                   | 부산역 도착 후 기장군으로 이동 (부산 지하철 및 버스 이용) |\n",
       "|            | 12:30       | 점심 식사 - 기장시장 내 맛집  | 기장시장 내 신선한 해산물 및 해물탕 추천              |\n",
       "|            | 14:00       | 기장 죽성드림성당 방문        | 부산의 대표 명소, 사진 촬영 및 산책                  |\n",
       "|            | 15:30       | 기장 해녀촌 방문              | 해녀 문화 체험 및 주변 카페에서 휴식                  |\n",
       "|            | 17:00       | 숙소 체크인                   | 기장군 내 대중교통 접근성 좋은 게스트하우스 또는 중저가 호텔 |\n",
       "|            | 18:30       | 저녁 식사 - 기장 대변항 횟집 | 신선한 회와 해산물 요리 맛보기                        |\n",
       "|            | 20:00       | 숙소 복귀 및 휴식             | 숙소 주변 산책 가능                                   |\n",
       "| 2일차       | 08:00       | 아침 식사 - 숙소 또는 근처 카페 | 가벼운 아침 식사                                    |\n",
       "|            | 09:30       | 기장 오랑대 해변 산책         | 해안 절경 감상 및 사진 촬영                          |\n",
       "|            | 11:00       | 기장 연화리 해수욕장 방문     | 해변 산책 및 주변 카페에서 휴식                       |\n",
       "|            | 12:30       | 점심 식사 - 연화리 근처 맛집  | 해산물 또는 한식 전문점 추천                           |\n",
       "|            | 14:00       | 아난티 코브 방문              | 리조트 내 산책 및 쇼핑, 카페 이용                      |\n",
       "|            | 16:00       | 기장 죽성리 해안도로 드라이브 및 산책 | 대중교통 및 택시 이용 가능                            |\n",
       "|            | 18:30       | 저녁 식사 - 기장군 내 유명 맛집 | 돼지국밥 또는 해물찜 추천                              |\n",
       "|            | 20:00       | 숙소 복귀 및 휴식             | 숙소 주변에서 휴식 및 자유시간                         |\n",
       "| 3일차       | 08:00       | 아침 식사 - 숙소 또는 근처 카페 | 가벼운 아침 식사                                    |\n",
       "|            | 09:30       | 기장 대변항 산책 및 기념품 구매 | 신선한 해산물 시장 구경 및 기념품 구매                |\n",
       "|            | 11:00       | 해동 용궁사 방문              | 부산 대표 해안 사찰 방문, 도보 및 대중교통 이용        |\n",
       "|            | 13:00       | 점심 식사 - 해동 용궁사 근처 맛집 | 해산물 또는 한식 추천                                 |\n",
       "|            | 14:30       | 부산역으로 이동               | 대중교통 이용 (버스 또는 지하철)                       |\n",
       "|            | 17:00       | 부산역 출발 (KTX)             | 서울로 귀가                                          |\n",
       "\n",
       "---\n",
       "\n",
       "### 예산 참고 (2인 기준, 약 50만원 내외)\n",
       "- KTX 왕복: 약 10만원 (2인)\n",
       "- 숙박 (2박): 약 10~15만원 (게스트하우스 또는 중저가 호텔)\n",
       "- 식사: 약 10~15만원 (맛집 위주, 6끼 기준)\n",
       "- 교통비 및 기타: 약 5~10만원 (대중교통, 택시, 입장료 등)\n",
       "\n",
       "---\n",
       "\n",
       "### 추천 숙소 예시\n",
       "- 기장군 내 ‘기장 게스트하우스’ (대중교통 접근성 우수, 1박 약 5~7만원)\n",
       "- 중저가 호텔: ‘기장 베스트 호텔’ 또는 ‘기장 힐링 호텔’ 등\n",
       "\n",
       "---\n",
       "\n",
       "위 일정은 맛집 탐방과 명소 방문을 중심으로 도보 및 대중교통 이용에 최적화하여 동선을 구성하였습니다. 즐거운 여행 되세요!"
      ],
      "text/plain": [
       "<IPython.core.display.Markdown object>"
      ]
     },
     "metadata": {},
     "output_type": "display_data"
    }
   ],
   "source": [
    "from IPython.display import display, Markdown\n",
    "\n",
    "result = chain.invoke({\"text\": text})\n",
    "display(Markdown(result))"
   ]
  },
  {
   "cell_type": "markdown",
   "id": "3c5124b8",
   "metadata": {},
   "source": [
    "## 4. Gradio Chat Interface"
   ]
  },
  {
   "cell_type": "code",
   "execution_count": 8,
   "id": "b9573389",
   "metadata": {},
   "outputs": [],
   "source": [
    "model = ChatOpenAI(\n",
    "    model=\"gpt-4.1\",\n",
    "    temperature=0.4,\n",
    "    top_p=0.7\n",
    ")\n",
    "history_messages = []"
   ]
  },
  {
   "cell_type": "code",
   "execution_count": null,
   "id": "6a3f0303",
   "metadata": {},
   "outputs": [],
   "source": [
    "from langchain_core.prompts import MessagesPlaceholder\n",
    "\n",
    "def get_summarize_chain(model):\n",
    "    template = \"\"\"\n",
    "{text}\n",
    "\n",
    "위에 입력된 텍스트를 다음 항목으로 요약해주세요: \n",
    "- 여행 일정 :\n",
    "- 교통편 일정 :\n",
    "- 여행 장소 :\n",
    "- 여행 스타일 :\n",
    "- 예산 :\n",
    "- 추천 숙소 :\"\"\"\n",
    "\n",
    "    prompt = ChatPromptTemplate.from_messages([\n",
    "        (\"system\", \"당신은 여행 일정 작성을 도와주는 AI 어시스턴트입니다.\"),\n",
    "        (\"human\", template)\n",
    "    ])\n",
    "    return prompt | model | StrOutputParser()\n",
    "\n",
    "def get_planner_chain(model):\n",
    "    template = \"\"\"\n",
    "다음 텍스트의 여행 일정을 기반으로 세부 여행 일정을 짜주세요.\n",
    "텍스트: {summary}\n",
    "규칙:\n",
    "1. 날짜 및 시간과 장소, 세부 계획 항목으로 표 형태로 작성하세요.\n",
    "2. 여행 스타일과 추천 숙소, 예산에 맞추어 동선을 고려하여 장소를 추천하세요.\n",
    "답변:\"\"\"\n",
    "\n",
    "    prompt = ChatPromptTemplate.from_messages([\n",
    "        MessagesPlaceholder(\"chat_history\"),\n",
    "        (\"human\", template)\n",
    "    ])\n",
    "    return prompt | model | StrOutputParser()\n"
   ]
  },
  {
   "cell_type": "code",
   "execution_count": null,
   "id": "3b752533",
   "metadata": {},
   "outputs": [],
   "source": [
    "\n",
    "from langchain_core.messages import HumanMessage, AIMessage\n",
    "\n",
    "def update_history(x):\n",
    "    history_messages.append(HumanMessage(content=x[\"summary\"]))\n",
    "    history_messages.append(AIMessage(content=x[\"plan\"]))\n",
    "    return f\"<요약>\\n{x['summary']}\\n\\n<일정>\\n{x['plan']}\""
   ]
  },
  {
   "cell_type": "code",
   "execution_count": 16,
   "id": "9c405e25",
   "metadata": {},
   "outputs": [],
   "source": [
    "def answer_invoke(message, history):\n",
    "    summarize_chain = get_summarize_chain(model)\n",
    "    planner_chain = get_planner_chain(model)\n",
    "\n",
    "    chain = (\n",
    "        RunnableMap({\n",
    "            \"summary\": summarize_chain,\n",
    "            \"chat_history\": RunnableLambda(lambda _: history_messages)\n",
    "         }) |\n",
    "        RunnableMap({\n",
    "            \"summary\": itemgetter(\"summary\"),\n",
    "            \"plan\": planner_chain\n",
    "        }) |\n",
    "        RunnableLambda(update_history)\n",
    "    )\n",
    "    response = chain.invoke({\"text\": message})\n",
    "    return response"
   ]
  },
  {
   "cell_type": "code",
   "execution_count": 17,
   "id": "013a4dac",
   "metadata": {},
   "outputs": [
    {
     "name": "stdout",
     "output_type": "stream",
     "text": [
      "* Running on local URL:  http://127.0.0.1:7860\n",
      "* To create a public link, set `share=True` in `launch()`.\n"
     ]
    },
    {
     "data": {
      "text/html": [
       "<div><iframe src=\"http://127.0.0.1:7860/\" width=\"100%\" height=\"500\" allow=\"autoplay; camera; microphone; clipboard-read; clipboard-write;\" frameborder=\"0\" allowfullscreen></iframe></div>"
      ],
      "text/plain": [
       "<IPython.core.display.HTML object>"
      ]
     },
     "metadata": {},
     "output_type": "display_data"
    },
    {
     "data": {
      "text/plain": []
     },
     "execution_count": 17,
     "metadata": {},
     "output_type": "execute_result"
    }
   ],
   "source": [
    "import gradio as gr\n",
    "\n",
    "demo = gr.ChatInterface(\n",
    "    fn=answer_invoke,         # 메시지 처리 함수\n",
    "    title=\"여행 일정 어시스턴트\", # 채팅 인터페이스의 제목\n",
    "    type=\"messages\"\n",
    ")\n",
    "\n",
    "# Gradio 인터페이스 실행\n",
    "demo.launch()"
   ]
  },
  {
   "cell_type": "code",
   "execution_count": 18,
   "id": "7c5b9121",
   "metadata": {},
   "outputs": [
    {
     "name": "stdout",
     "output_type": "stream",
     "text": [
      "Closing server running on port: 7860\n"
     ]
    }
   ],
   "source": [
    "demo.close()"
   ]
  },
  {
   "cell_type": "code",
   "execution_count": 19,
   "id": "83e175d5",
   "metadata": {},
   "outputs": [
    {
     "data": {
      "text/plain": [
       "[HumanMessage(content='- 여행 일정 : 2박 3일 (첫날 오전 11시 부산역 도착, 마지막 날 오후 5시 부산역 출발)\\n- 교통편 일정 : 서울역 → 부산역(오전 8시 출발, 오전 11시 도착) / 부산역 → 서울역(마지막 날 오후 5시 출발), 현지에서는 도보 및 대중교통 이용\\n- 여행 장소 : 부산 기장군 부근\\n- 여행 스타일 : 맛집 탐방 및 명소 방문, 도보 및 대중교통 위주, 여동생과 둘이 여행\\n- 예산 : 50만원 내외\\n- 추천 숙소 : 기장군 인근 대중교통 접근성 좋은 숙소(게스트하우스, 호텔 등)', additional_kwargs={}, response_metadata={}),\n",
       " AIMessage(content='네, 요청하신 조건에 맞춰 부산 기장군 부근 2박 3일 여행 일정을 표로 정리해 드립니다.  \\n(숙소는 기장역 또는 오시리아역 인근의 대중교통 접근성 좋은 호텔/게스트하우스 기준으로 추천합니다.)\\n\\n---\\n\\n| 날짜         | 시간           | 장소(주소)                              | 세부 계획                                                      |\\n|--------------|----------------|----------------------------------------|--------------------------------------------------------------|\\n| 1일차 (금)   | 11:00          | 부산역                                 | 부산역 도착, 대중교통(동해선) 이용해 기장 이동                |\\n|              | 12:00          | 기장역/숙소 체크인                     | 숙소에 짐 보관 또는 얼리 체크인 (예: 호텔라온, 기장 게스트하우스 등) |\\n|              | 12:30~13:30    | 기장시장                               | 점심: 기장 멸치쌈밥, 기장 대게 등 지역 맛집 탐방              |\\n|              | 13:30~15:00    | 죽성성당                               | 도보/버스 이동, 바다와 어우러진 아름다운 성당 산책 및 사진 촬영 |\\n|              | 15:30~17:00    | 일광해수욕장                           | 해변 산책, 카페(해변뷰 카페 추천)에서 여유                     |\\n|              | 17:30~19:00    | 기장시장/기장읍                        | 저녁: 기장 곰장어, 해산물 등 맛집 탐방                        |\\n|              | 19:30~         | 숙소                                   | 숙소 휴식, 기장 야경 산책(근처 카페 등)                        |\\n| 2일차 (토)   | 08:00~09:00    | 숙소                                   | 기상 및 아침식사(숙소 조식 또는 근처 카페)                     |\\n|              | 09:30~11:30    | 오시리아 관광단지 (롯데월드/아쿠아리움) | 오시리아역 이동, 롯데월드 부산/아쿠아리움 중 선택 방문         |\\n|              | 12:00~13:00    | 오시리아역 인근                        | 점심: 오시리아역/롯데월드몰 내 맛집 탐방                       |\\n|              | 13:30~15:00    | 국립부산과학관                         | 과학관 관람(체험, 전시)                                        |\\n|              | 15:30~17:00    | 해동용궁사                             | 버스 이동, 해안 절경과 사찰 탐방, 사진 촬영                    |\\n|              | 17:30~19:00    | 기장시장/기장읍                        | 저녁: 기장 미역국, 해산물 등 맛집 탐방                        |\\n|              | 19:30~         | 숙소                                   | 숙소 휴식, 근처 산책                                            |\\n| 3일차 (일)   | 08:00~09:00    | 숙소                                   | 기상 및 아침식사                                               |\\n|              | 09:30~11:00    | 대변항                                 | 대변항 산책, 어시장 구경, 신선한 해산물 간식                   |\\n|              | 11:30~13:00    | 일광해수욕장/카페거리                  | 해변 산책, 브런치/카페 타임                                    |\\n|              | 13:30~15:00    | 기장시장/기장읍                        | 점심: 기장 대표 음식 마지막 맛집 탐방                          |\\n|              | 15:30~16:30    | 숙소 체크아웃 및 부산역 이동           | 숙소 체크아웃, 동해선 기차로 부산역 이동                       |\\n|              | 16:30~17:00    | 부산역                                 | 기념품 구매, 서울행 KTX 탑승 준비                              |\\n|              | 17:00          | 부산역                                 | 서울행 KTX 탑승, 여행 종료                                     |\\n\\n---\\n\\n**추천 숙소:**  \\n- 기장역 인근 ‘호텔라온’, ‘기장 게스트하우스’, ‘오시리아역 인근 비즈니스 호텔’ 등 (1박 7~10만원대, 2인실 기준)\\n- 대중교통 접근성, 청결, 후기 참고\\n\\n**예산 예시:**  \\n- 숙박(2박): 16~20만원  \\n- 식비 및 카페: 15~18만원  \\n- 입장료(롯데월드/아쿠아리움/과학관): 5~8만원  \\n- 교통(부산 내, 서울-부산 KTX 제외): 2~3만원  \\n- 기타(기념품 등): 2~3만원  \\n→ 총 45~50만원 내외\\n\\n**참고:**  \\n- 각 장소는 도보+대중교통(동해선, 버스)로 이동 가능  \\n- 일정은 여유 있게 조정 가능  \\n- 맛집 및 명소는 기장군 대표 장소 위주로 선정\\n\\n필요시 상세 맛집/카페 추천도 추가 안내해 드릴 수 있습니다!', additional_kwargs={}, response_metadata={})]"
      ]
     },
     "execution_count": 19,
     "metadata": {},
     "output_type": "execute_result"
    }
   ],
   "source": [
    "history_messages"
   ]
  }
 ],
 "metadata": {
  "kernelspec": {
   "display_name": ".venv",
   "language": "python",
   "name": "python3"
  },
  "language_info": {
   "codemirror_mode": {
    "name": "ipython",
    "version": 3
   },
   "file_extension": ".py",
   "mimetype": "text/x-python",
   "name": "python",
   "nbconvert_exporter": "python",
   "pygments_lexer": "ipython3",
   "version": "3.12.10"
  }
 },
 "nbformat": 4,
 "nbformat_minor": 5
}
